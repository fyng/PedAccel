{
 "cells": [
  {
   "cell_type": "markdown",
   "metadata": {},
   "source": [
    "Vitals Correlations"
   ]
  },
  {
   "cell_type": "code",
   "execution_count": 1,
   "metadata": {},
   "outputs": [
    {
     "name": "stderr",
     "output_type": "stream",
     "text": [
      "c:\\Users\\sidha\\anaconda3\\lib\\site-packages\\pandas\\core\\computation\\expressions.py:21: UserWarning: Pandas requires version '2.8.4' or newer of 'numexpr' (version '2.8.1' currently installed).\n",
      "  from pandas.core.computation.check import NUMEXPR_INSTALLED\n",
      "c:\\Users\\sidha\\anaconda3\\lib\\site-packages\\pandas\\core\\arrays\\masked.py:59: UserWarning: Pandas requires version '1.3.6' or newer of 'bottleneck' (version '1.3.4' currently installed).\n",
      "  from pandas.core import (\n"
     ]
    }
   ],
   "source": [
    "# Import Modules\n",
    "\n",
    "import sys\n",
    "sys.path.append(\"..\") #give this script access to all modules in parent directory\n",
    "import os\n",
    "from pathlib import Path\n",
    "import matplotlib.lines as mlines\n",
    "from matplotlib import pyplot as plt\n",
    "import pandas as pd\n",
    "import numpy as np\n",
    "import math\n",
    "\n",
    "# Import Statistical Tests and tsfel\n",
    "from scipy.io import loadmat\n",
    "from scipy.stats import pearsonr\n",
    "from scipy.stats import spearmanr\n",
    "from scipy.stats import kendalltau\n",
    "import tsfel\n",
    "from operator import itemgetter\n",
    "from sklearn.preprocessing import StandardScaler\n",
    "from sklearn.decomposition import PCA\n",
    "import statistics\n",
    "\n",
    "# Import Previous Scripts\n",
    "import Filtering\n",
    "import Correlations\n"
   ]
  },
  {
   "cell_type": "code",
   "execution_count": 2,
   "metadata": {},
   "outputs": [],
   "source": [
    "# Set Parameters\n",
    "data_dir = 'C:/Users/sidha/OneDrive/Sid Stuff/PROJECTS/iMEDS Design Team/Data Analysis/PedAccel/data_analysis/PythonPipeline/PatientData'\n",
    "# data_dir = r'C:\\Users\\jakes\\Documents\\DT 6 Analysis\\PythonCode\\PedAccel\\data_analysis\\PythonPipeline\\PatientData'\n",
    "slice_size_min = 15\n",
    "lead_time = 10"
   ]
  },
  {
   "cell_type": "code",
   "execution_count": 4,
   "metadata": {},
   "outputs": [
    {
     "name": "stdout",
     "output_type": "stream",
     "text": [
      "Processing: Patient11\n",
      "Before: (14, 450) for Patient11\n",
      "After: (14, 450) for Patient11\n"
     ]
    },
    {
     "ename": "AttributeError",
     "evalue": "'list' object has no attribute 'size'",
     "output_type": "error",
     "traceback": [
      "\u001b[1;31m---------------------------------------------------------------------------\u001b[0m",
      "\u001b[1;31mAttributeError\u001b[0m                            Traceback (most recent call last)",
      "Input \u001b[1;32mIn [4]\u001b[0m, in \u001b[0;36m<cell line: 1>\u001b[1;34m()\u001b[0m\n\u001b[0;32m     62\u001b[0m signal_names \u001b[38;5;241m=\u001b[39m [\u001b[38;5;124m'\u001b[39m\u001b[38;5;124mHeart_Rate\u001b[39m\u001b[38;5;124m'\u001b[39m, \u001b[38;5;124m'\u001b[39m\u001b[38;5;124mSpO2\u001b[39m\u001b[38;5;124m'\u001b[39m, \u001b[38;5;124m'\u001b[39m\u001b[38;5;124mRespiratory_Rate\u001b[39m\u001b[38;5;124m'\u001b[39m, \u001b[38;5;124m'\u001b[39m\u001b[38;5;124mBlood_pressure_systolic\u001b[39m\u001b[38;5;124m'\u001b[39m, \u001b[38;5;124m'\u001b[39m\u001b[38;5;124mBlood_pressure_mean\u001b[39m\u001b[38;5;124m'\u001b[39m, \u001b[38;5;124m'\u001b[39m\u001b[38;5;124mBlood_pressure_diastolic\u001b[39m\u001b[38;5;124m'\u001b[39m]\n\u001b[0;32m     64\u001b[0m \u001b[38;5;28;01mfor\u001b[39;00m signal, sbs, name \u001b[38;5;129;01min\u001b[39;00m \u001b[38;5;28mzip\u001b[39m(signal_list, sbs_list, signal_names):\n\u001b[1;32m---> 65\u001b[0m     \u001b[38;5;28;01mif\u001b[39;00m \u001b[43msignal\u001b[49m\u001b[38;5;241;43m.\u001b[39;49m\u001b[43msize\u001b[49m \u001b[38;5;241m!=\u001b[39m \u001b[38;5;241m0\u001b[39m:\n\u001b[0;32m     66\u001b[0m         Correlations\u001b[38;5;241m.\u001b[39mpearson_corr_vitals_sbs(signal, sbs, name, lead_time, slice_size_min)\n",
      "\u001b[1;31mAttributeError\u001b[0m: 'list' object has no attribute 'size'"
     ]
    }
   ],
   "source": [
    "for patient in os.listdir(data_dir):\n",
    "        # filter out non-directories\n",
    "        patient_dir = os.path.join(data_dir, patient)\n",
    "        if os.path.isdir(patient_dir):\n",
    "            print('Processing:', patient)\n",
    "            data_filepath_accel = os.path.join(patient_dir, f'{patient}_{lead_time}MIN_{slice_size_min - lead_time}MIN.mat')           \n",
    "            data_filepath_vitals = os.path.join(patient_dir, f'{patient}_SICKBAY_{lead_time}MIN_{slice_size_min - lead_time}MIN.mat')\n",
    "\n",
    "        accel_data = loadmat(data_filepath_accel)\n",
    "        x_mag = accel_data[\"x_mag\"]\n",
    "        accel_SBS = accel_data[\"sbs\"]\n",
    "        \n",
    "        vitals_data = loadmat(data_filepath_vitals)\n",
    "        temp_hr = vitals_data['heart_rate']\n",
    "        temp_SpO2 = vitals_data['SpO2']\n",
    "        temp_rr = vitals_data['respiratory_rate']\n",
    "        temp_bps = vitals_data['blood_pressure_systolic']\n",
    "        temp_bpm = vitals_data['blood_pressure_mean']\n",
    "        temp_bpd = vitals_data['blood_pressure_diastolic']\n",
    "        vitals_SBS = vitals_data['sbs'].flatten()\n",
    "        hr = []\n",
    "        hr_sbs = []\n",
    "        rr = []\n",
    "        rr_sbs = []\n",
    "        SpO2 = []\n",
    "        SpO2_sbs = []\n",
    "        bpm = []\n",
    "        bpm_sbs = []\n",
    "        bps = []\n",
    "        bps_sbs = []\n",
    "        bpd = []\n",
    "        bpd_sbs = []\n",
    "\n",
    "        print(f'Before: {temp_bpd.shape} for {patient}')\n",
    "\n",
    "        # Filter the vitals data for each SBS score, create an SBS list for each vitals data\n",
    "        for j in range(len(vitals_SBS)):\n",
    "            if Filtering.checkVitals(temp_hr[j], slice_size_min, 'hr'):\n",
    "                hr.append(temp_hr[j])\n",
    "                hr_sbs.append(vitals_SBS[j])\n",
    "            if Filtering.checkVitals(temp_rr[j], slice_size_min, 'rr'):\n",
    "                rr.append(temp_hr[j])\n",
    "                rr_sbs.append(vitals_SBS[j])\n",
    "            if Filtering.checkVitals(temp_SpO2[j], slice_size_min, 'spo2'):\n",
    "                SpO2.append(temp_hr[j])\n",
    "                SpO2_sbs.append(vitals_SBS[j])\n",
    "            if Filtering.checkVitals(temp_bps[j], slice_size_min, 'bps'):\n",
    "                bpm.append(temp_hr[j])\n",
    "                bpm_sbs.append(vitals_SBS[j])\n",
    "            if Filtering.checkVitals(temp_bpm[j], slice_size_min, 'bpm'):\n",
    "                bps.append(temp_hr[j])\n",
    "                bps_sbs.append(vitals_SBS[j])\n",
    "            if Filtering.checkVitals(temp_bpd[j], slice_size_min, 'bpd'):\n",
    "                bpd.append(temp_hr[j])\n",
    "                bpd_sbs.append(vitals_SBS[j])\n",
    "        print(f'After: {np.array(bpd).shape} for {patient}')\n",
    "        \n",
    "        # Call Functions Here\n",
    "        \n",
    "        signal_list = [hr, SpO2, rr, bps, bpm, bpd]\n",
    "        sbs_list = [hr_sbs, SpO2_sbs, rr_sbs, bps_sbs, bpm_sbs, bpd_sbs]\n",
    "        signal_names = ['Heart_Rate', 'SpO2', 'Respiratory_Rate', 'Blood_pressure_systolic', 'Blood_pressure_mean', 'Blood_pressure_diastolic']\n",
    "        \n",
    "        for signal, sbs, name in zip(signal_list, sbs_list, signal_names):\n",
    "            if len(signal) != 0:\n",
    "                Correlations.pearson_corr_vitals_sbs(signal, sbs, name, lead_time, slice_size_min)\n",
    "        "
   ]
  }
 ],
 "metadata": {
  "kernelspec": {
   "display_name": "base",
   "language": "python",
   "name": "python3"
  },
  "language_info": {
   "codemirror_mode": {
    "name": "ipython",
    "version": 3
   },
   "file_extension": ".py",
   "mimetype": "text/x-python",
   "name": "python",
   "nbconvert_exporter": "python",
   "pygments_lexer": "ipython3",
   "version": "3.9.12"
  }
 },
 "nbformat": 4,
 "nbformat_minor": 2
}
