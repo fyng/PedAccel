{
 "cells": [
  {
   "cell_type": "markdown",
   "metadata": {},
   "source": [
    "Vitals Data Graphed..."
   ]
  },
  {
   "cell_type": "code",
   "execution_count": 1,
   "metadata": {},
   "outputs": [],
   "source": [
    "import os\n",
    "from scipy.io import loadmat"
   ]
  },
  {
   "cell_type": "code",
   "execution_count": 3,
   "metadata": {},
   "outputs": [
    {
     "name": "stdout",
     "output_type": "stream",
     "text": [
      "Processing: Patient2\n",
      "Loading data\n",
      "[[130. 129. 129. ... 120. 120. 119.]]\n",
      "Processing: Patient3\n",
      "Loading data\n",
      "[[151. 151. 152. ... 141. 141. 141.]]\n",
      "Processing: Patient4\n",
      "Loading data\n",
      "[[146. 147. 148. ...  90.  90.  90.]]\n",
      "Processing: Patient5\n",
      "Loading data\n",
      "[[114. 114. 114. ... 125. 125. 125.]]\n"
     ]
    }
   ],
   "source": [
    "data_dir = r'C:\\Users\\sidha\\OneDrive\\Sid Stuff\\PROJECTS\\iMEDS Design Team\\Data Analysis\\PedAccel\\data_analysis\\PythonPipeline\\PatientData'\n",
    "\n",
    "for patient in os.listdir(data_dir):\n",
    "    patient_dir = os.path.join(data_dir, patient)\n",
    "    if os.path.isdir(patient_dir):\n",
    "        print('Processing:', patient)\n",
    "        print('Loading data')\n",
    "            \n",
    "        filename = f'{patient}_SickBayData.mat'\n",
    "            \n",
    "        data_path = os.path.join(patient_dir, filename)\n",
    "        data = loadmat(data_path)\n",
    "        \n",
    "        time = data[\"time\"]\n",
    "        hr = data[\"heart_rate\"]\n",
    "        \n",
    "        print(hr)\n"
   ]
  }
 ],
 "metadata": {
  "kernelspec": {
   "display_name": "base",
   "language": "python",
   "name": "python3"
  },
  "language_info": {
   "codemirror_mode": {
    "name": "ipython",
    "version": 3
   },
   "file_extension": ".py",
   "mimetype": "text/x-python",
   "name": "python",
   "nbconvert_exporter": "python",
   "pygments_lexer": "ipython3",
   "version": "3.9.12"
  }
 },
 "nbformat": 4,
 "nbformat_minor": 2
}
