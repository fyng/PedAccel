{
 "cells": [
  {
   "cell_type": "code",
   "execution_count": 1,
   "metadata": {},
   "outputs": [],
   "source": [
    "#import relevant packages\n",
    "import pandas as pd\n",
    "import numpy as np\n",
    "import matplotlib.pyplot as plt\n",
    "from pathlib import Path\n",
    "import pyarrow as pa\n",
    "import seaborn as sns\n",
    "from datetime import timedelta, datetime\n",
    "\n",
    "dir = Path(r\"S:\\Fackler_OSS_364376\\data\\IRB-364376-v1-230215\")"
   ]
  },
  {
   "cell_type": "code",
   "execution_count": 2,
   "metadata": {},
   "outputs": [],
   "source": [
    "fp = dir.joinpath('EHR', 'd_flo_measures.csv.gz')\n",
    "dict = pd.read_csv(fp, compression=\"gzip\")\n",
    "\n",
    "names = [\"State Behavioral Scale\",\n",
    "\"-3 Unresponsive\", \n",
    "\"-2 Responsive to noxious stimuli\", \n",
    "\"-1 Responsive to gentle touch or voice\",\n",
    "\"0 Awake and Able to calm\",\n",
    "\"+1 Restless and difficult to calm\",\n",
    "\"+2 Agitated\",\n",
    "\"State Behavioral Scale (SBS)\"]\n",
    "\n",
    "# note: flowsheet record flow_meas_id as meas_id\n",
    "# note: SBS score values are only stored in these fields\n",
    "\n",
    "fmid = [304080016, 304080017, 304080018, 304080019, 304080020, 304080021]"
   ]
  },
  {
   "cell_type": "code",
   "execution_count": 3,
   "metadata": {},
   "outputs": [
    {
     "name": "stderr",
     "output_type": "stream",
     "text": [
      "C:\\Users\\swu82\\AppData\\Local\\Temp\\ipykernel_17140\\2347729938.py:17: SettingWithCopyWarning: \n",
      "A value is trying to be set on a copy of a slice from a DataFrame.\n",
      "Try using .loc[row_indexer,col_indexer] = value instead\n",
      "\n",
      "See the caveats in the documentation: https://pandas.pydata.org/pandas-docs/stable/user_guide/indexing.html#returning-a-view-versus-a-copy\n",
      "  sbs['SBS'] = sbs['meas_id'] - 304080019\n"
     ]
    }
   ],
   "source": [
    "# connect with feather file\n",
    "fp = dir.joinpath('EHR', 'ptsd_record.csv.gz')\n",
    "\n",
    "ptsd_record = pd.read_csv(fp, compression=\"gzip\")\n",
    "\n",
    "# load flow table of all patient EHR records\n",
    "fp = dir.joinpath('EHR', 'flowsheet.csv.gz')\n",
    "data = pd.read_csv(fp, compression=\"gzip\")\n",
    "data = data.drop(columns = ['meas_comment', 'meas_template_id'])\n",
    "# Note: pandas took 50 seconds to load the table. Consider porting to PySpark RDD\n",
    "\n",
    "sbs = data[data['meas_id'].isin(fmid)]\n",
    "# print(sbs.shape)\n",
    "# 25878 entries\n",
    "\n",
    "# calculate sbs score from offset\n",
    "sbs['SBS'] = sbs['meas_id'] - 304080019\n",
    "sbs = sbs.drop(columns=['meas_value', 'meas_id'])\n",
    "sbs['recorded_time'] = pd.to_datetime(sbs['recorded_time'], format='%Y-%m-%d %H:%M:%S')\n",
    "sbs_indiv = sbs.groupby('pat_enc_csn_sid')\n",
    "\n",
    "# load pre-selected patients from patient_inclexcl.ipynb\n",
    "patients = np.load('./DONOTPUSH/patients.npy', allow_pickle=True)\n",
    "patients_no_vent = np.load('./DONOTPUSH/patients_novent.npy', allow_pickle=True)"
   ]
  },
  {
   "attachments": {},
   "cell_type": "markdown",
   "metadata": {},
   "source": [
    "### Segment pstd and SBS data for ML training"
   ]
  },
  {
   "attachments": {},
   "cell_type": "markdown",
   "metadata": {},
   "source": [
    "Select Relevant vitals.\n",
    "For now:\n",
    "- drop data from Medibus (ventilator system)\n",
    "- Keep dts, HR, SPO2, RR, BP"
   ]
  },
  {
   "cell_type": "code",
   "execution_count": 4,
   "metadata": {},
   "outputs": [
    {
     "name": "stdout",
     "output_type": "stream",
     "text": [
      "hl7m ['dts', 'AR1-D', 'AR1-M', 'AR1-R', 'AR1-S', 'CVP2', 'HR', 'NBP-D', 'NBP-M', 'NBP-R', 'NBP-S', 'PVC', 'RR', 'SPO2-%', 'SPO2-R', 'ST-AVF', 'ST-AVL', 'ST-AVR', 'ST-I', 'ST-II', 'ST-III', 'ST-V1', 'TP1-1', 'TP1-2']\n"
     ]
    }
   ],
   "source": [
    "fp_hl7m = dir.joinpath('ptsd-phi', 'vitals-hl7m', \"003\", '1000000003-2016-07-07-0.0166667-1-HL7M.feather')\n",
    "fp_tsdb = dir.joinpath('ptsd-phi', 'vitals-tsdb', \"106\", '1000002106-2019-01-22-1-TSDB.feather')\n",
    "fp_gevital = dir.joinpath('ptsd-phi', 'vitals-sb', \"672\", '1000002672-2020-10-01-1-GEVITAL.feather')\n",
    "fp_medibus = dir.joinpath('ptsd-phi', 'vitals-sb', \"672\", '1000002672-2020-10-01-1-MEDIBUSVITAL.feather')\n",
    "\n",
    "df = pd.read_feather(fp_hl7m, columns=None, use_threads=True, storage_options=None)\n",
    "names_hl7m = df.columns.tolist()\n",
    "\n",
    "print(\"hl7m\", names_hl7m)\n",
    "df = pd.read_feather(fp_tsdb, columns=None, use_threads=True, storage_options=None)\n",
    "names_tsdb = df.columns.tolist()\n",
    "# print(\"tsdb\", names_tsdb)\n",
    "\n",
    "df = pd.read_feather(fp_gevital, columns=None, use_threads=True, storage_options=None)\n",
    "names_gevitals = df.columns.tolist()\n",
    "# print(\"gevitals\", names_gevitals)\n",
    "\n",
    "# df = pd.read_feather(fp_medibus, columns=None, use_threads=True, storage_options=None)\n",
    "# names_medibus = df.columns.tolist()\n",
    "# print(\"medibus\", names_medibus)"
   ]
  },
  {
   "cell_type": "code",
   "execution_count": 5,
   "metadata": {},
   "outputs": [],
   "source": [
    "tsdb_order = ['dts', 'HR', 'RR_2344', 'SpO2_7874', \"PVC\"]\n",
    "hl7m_order = ['dts', 'HR', 'RR', 'SPO2-%', 'PVC']\n",
    "ge_order = ['dts','PARM_HR','PARM_RESP_RATE', 'PARM_SPO2_1', 'PARM_PVC']\n",
    "\n",
    "metrics = set(hl7m_order + tsdb_order + ge_order)\n",
    "dims = len(hl7m_order)"
   ]
  },
  {
   "cell_type": "code",
   "execution_count": 6,
   "metadata": {},
   "outputs": [],
   "source": [
    "fp = dir.joinpath('EHR', 'prism3.csv.gz')\n",
    "prism = pd.read_csv(fp, compression='gzip')\n",
    "prism = prism.groupby('pat_enc_csn_sid')['age_m']"
   ]
  },
  {
   "cell_type": "code",
   "execution_count": 7,
   "metadata": {},
   "outputs": [
    {
     "name": "stderr",
     "output_type": "stream",
     "text": [
      "C:\\Users\\swu82\\AppData\\Local\\Temp\\ipykernel_17140\\3168402401.py:2: DtypeWarning: Columns (13,14,16,18,19,20,21) have mixed types. Specify dtype option on import or set low_memory=False.\n",
      "  vent = pd.read_csv(fp, compression='gzip')\n"
     ]
    }
   ],
   "source": [
    "fp = dir.joinpath('EHR', 'vent_set.csv.gz')\n",
    "vent = pd.read_csv(fp, compression='gzip')"
   ]
  },
  {
   "cell_type": "code",
   "execution_count": 8,
   "metadata": {},
   "outputs": [],
   "source": [
    "# turn off error message on .loc\n",
    "import warnings\n",
    "warnings.filterwarnings(\"ignore\")\n",
    "pd.options.mode.chained_assignment = None  # default='warn'\n",
    "\n",
    "# vitals data\n",
    "X = []\n",
    "X_train = []\n",
    "X_test = []\n",
    "id_train = []\n",
    "# sbs scores\n",
    "y = []\n",
    "y_train = []\n",
    "y_test = []\n",
    "id_test = []\n",
    "# record patient id for stratification\n",
    "ids = []\n",
    "ctr = 1"
   ]
  },
  {
   "cell_type": "code",
   "execution_count": 9,
   "metadata": {},
   "outputs": [
    {
     "name": "stdout",
     "output_type": "stream",
     "text": [
      "[50 / 415]: 1000002181\n",
      "[100 / 415]: 1000002256\n",
      "[150 / 415]: 1000002339\n",
      "[200 / 415]: 1000002435\n",
      "[250 / 415]: 1000002537\n",
      "[300 / 415]: 1000002633\n",
      "[350 / 415]: 1000002724\n",
      "[400 / 415]: 1000002827\n"
     ]
    }
   ],
   "source": [
    "for p in patients:\n",
    "    if ctr % 50 == 0:\n",
    "        print(f'[{ctr} / {len(patients)}]: {p}')\n",
    "\n",
    "    files = ptsd_record[ptsd_record['pat_enc_csn_sid'] == p]\n",
    "    files['start_time'] = pd.to_datetime(files['start_time'], format='%Y-%m-%d %H:%M:%S.%f')\n",
    "    files['end_time'] = pd.to_datetime(files['end_time'], format='%Y-%m-%d %H:%M:%S.%f')\n",
    "    files.sort_values('start_time')\n",
    "\n",
    "    devices = files['device']\n",
    "    filename = files['filename'] + '.feather'\n",
    "    startime = files['start_time']\n",
    "\n",
    "    dfs = []\n",
    "    size = 0\n",
    "\n",
    "    for (d, fn, t0) in zip(devices, filename, startime): \n",
    "        # drop 'MEDIBUSVITAL' since it is a ventilator (we dont want ventilated patients)\n",
    "        if fn.endswith('MEDIBUSVITAL.feather'):\n",
    "            continue\n",
    "        # HL7M', 'TSDB', 'GEVITAL'\n",
    "        if (d.endswith('HL7M') or d.endswith('TSDB')):\n",
    "            fp_device = 'vitals-' + d.lower()\n",
    "        else:\n",
    "            fp_device = 'vitals-sb'\n",
    "        fp_p = str(p)[-3:] # last 3 digit of pat_enc_csn_sid is the subfolder\n",
    "        fp = dir.joinpath('ptsd-phi', fp_device, fp_p, fn)\n",
    "        if (fp == None):\n",
    "            print(fp, \"does not exist\")\n",
    "            continue\n",
    "\n",
    "        df = pd.read_feather(fp, columns=None, use_threads=True, storage_options=None)\n",
    "        df = df.filter(metrics)\n",
    "        # rearrange columns according to device\n",
    "        if d.endswith('HL7M'):\n",
    "            df = df.reindex(columns=hl7m_order)\n",
    "        elif d.endswith('TSDB'):\n",
    "            df = df.reindex(columns=tsdb_order)\n",
    "        elif d.endswith('GEVITAL'):\n",
    "            df = df.reindex(columns=ge_order)\n",
    "\n",
    "        df.loc[:,'dts'] = pd.to_timedelta(df.loc[:,'dts'], unit='s')\n",
    "        df.loc[:,'dts'] = df.loc[:,'dts'] + t0\n",
    "\n",
    "        # standardize column names\n",
    "        # time, heart rate, central venous pressure, resp rate and spo2-%\n",
    "        df.columns = ['dts', 'HR', 'RR', 'SPO2-%', 'PVC']\n",
    "        dfs.append(df)\n",
    "\n",
    "    # resample to 1min intervals using median value\n",
    "    # https://pandas.pydata.org/docs/reference/api/pandas.DataFrame.resample.html\n",
    "    vitals = (pd.concat(dfs, axis=0)\n",
    "              .set_index('dts')\n",
    "              .sort_values(by=['dts'])\n",
    "              .resample('1T').median()\n",
    "    )\n",
    "    # add SBS\n",
    "    sbs_p = (sbs_indiv.get_group(p)\n",
    "            .sort_values('recorded_time')\n",
    "            .drop(columns=['osler_sid', 'pat_enc_csn_sid'])\n",
    "            .set_index('recorded_time')\n",
    "            .resample('1T').median()\n",
    "    )\n",
    "    # preserve vitals timestamps while adding SBS where available\n",
    "    patient_multi = pd.merge(left=vitals, right=sbs_p, left_index=True, right_index=True, how='left')\n",
    "    pat_age = prism.get_group(p).mean()\n",
    "    pat_vent = not p in patients_no_vent\n",
    "    patient_multi.drop(columns=['PVC'], inplace=True)\n",
    "    patient_multi['Age'] = [pat_age]*patient_multi.shape[0]\n",
    "    patient_multi['Vent'] = [pat_vent]*patient_multi.shape[0]\n",
    "    patient_multi.loc[patient_multi['HR'] == 0, :] = np.nan\n",
    "    if np.any(np.abs(patient_multi['SBS']) >= 2):\n",
    "        for i in np.argwhere(~np.isnan(patient_multi['SBS'].tolist())):\n",
    "            idx = i[0]\n",
    "            if idx > 29:\n",
    "                end = patient_multi.index[idx] + timedelta(seconds=1*60)\n",
    "                start = patient_multi.index[idx]-timedelta(seconds=15*60)\n",
    "                dat = patient_multi.loc[start:end, :]\n",
    "                X_data = dat.drop(columns=['SBS'])\n",
    "                y_data = patient_multi['SBS'][idx]\n",
    "                if not np.any(X_data.isna().sum() > 0):\n",
    "                    X.append(X_data.to_numpy())\n",
    "                    y.append(y_data)\n",
    "                    ids.append(p)\n",
    "                    # print(X, y)\n",
    "                    if ctr < 330: \n",
    "                        X_train.append(X_data.to_numpy())\n",
    "                        y_train.append(y_data)\n",
    "                        id_train.append(p)\n",
    "                    else:\n",
    "                        X_test.append(X_data.to_numpy())\n",
    "                        y_test.append(y_data)\n",
    "                        id_test.append(p)\n",
    "            \n",
    "    ctr += 1"
   ]
  },
  {
   "cell_type": "code",
   "execution_count": 10,
   "metadata": {},
   "outputs": [
    {
     "data": {
      "text/html": [
       "<div>\n",
       "<style scoped>\n",
       "    .dataframe tbody tr th:only-of-type {\n",
       "        vertical-align: middle;\n",
       "    }\n",
       "\n",
       "    .dataframe tbody tr th {\n",
       "        vertical-align: top;\n",
       "    }\n",
       "\n",
       "    .dataframe thead th {\n",
       "        text-align: right;\n",
       "    }\n",
       "</style>\n",
       "<table border=\"1\" class=\"dataframe\">\n",
       "  <thead>\n",
       "    <tr style=\"text-align: right;\">\n",
       "      <th></th>\n",
       "      <th>HR</th>\n",
       "      <th>RR</th>\n",
       "      <th>SPO2-%</th>\n",
       "      <th>SBS</th>\n",
       "      <th>Age</th>\n",
       "      <th>Vent</th>\n",
       "    </tr>\n",
       "    <tr>\n",
       "      <th>dts</th>\n",
       "      <th></th>\n",
       "      <th></th>\n",
       "      <th></th>\n",
       "      <th></th>\n",
       "      <th></th>\n",
       "      <th></th>\n",
       "    </tr>\n",
       "  </thead>\n",
       "  <tbody>\n",
       "    <tr>\n",
       "      <th>2021-11-16 00:09:00</th>\n",
       "      <td>88.0</td>\n",
       "      <td>24.0</td>\n",
       "      <td>75.0</td>\n",
       "      <td>NaN</td>\n",
       "      <td>46.0</td>\n",
       "      <td>True</td>\n",
       "    </tr>\n",
       "    <tr>\n",
       "      <th>2021-11-16 00:10:00</th>\n",
       "      <td>NaN</td>\n",
       "      <td>NaN</td>\n",
       "      <td>NaN</td>\n",
       "      <td>NaN</td>\n",
       "      <td>46.0</td>\n",
       "      <td>True</td>\n",
       "    </tr>\n",
       "    <tr>\n",
       "      <th>2021-11-16 00:11:00</th>\n",
       "      <td>NaN</td>\n",
       "      <td>NaN</td>\n",
       "      <td>NaN</td>\n",
       "      <td>NaN</td>\n",
       "      <td>46.0</td>\n",
       "      <td>True</td>\n",
       "    </tr>\n",
       "    <tr>\n",
       "      <th>2021-11-16 00:12:00</th>\n",
       "      <td>NaN</td>\n",
       "      <td>NaN</td>\n",
       "      <td>NaN</td>\n",
       "      <td>NaN</td>\n",
       "      <td>46.0</td>\n",
       "      <td>True</td>\n",
       "    </tr>\n",
       "    <tr>\n",
       "      <th>2021-11-16 00:13:00</th>\n",
       "      <td>NaN</td>\n",
       "      <td>NaN</td>\n",
       "      <td>NaN</td>\n",
       "      <td>NaN</td>\n",
       "      <td>46.0</td>\n",
       "      <td>True</td>\n",
       "    </tr>\n",
       "  </tbody>\n",
       "</table>\n",
       "</div>"
      ],
      "text/plain": [
       "                       HR    RR  SPO2-%  SBS   Age  Vent\n",
       "dts                                                     \n",
       "2021-11-16 00:09:00  88.0  24.0    75.0  NaN  46.0  True\n",
       "2021-11-16 00:10:00   NaN   NaN     NaN  NaN  46.0  True\n",
       "2021-11-16 00:11:00   NaN   NaN     NaN  NaN  46.0  True\n",
       "2021-11-16 00:12:00   NaN   NaN     NaN  NaN  46.0  True\n",
       "2021-11-16 00:13:00   NaN   NaN     NaN  NaN  46.0  True"
      ]
     },
     "execution_count": 10,
     "metadata": {},
     "output_type": "execute_result"
    }
   ],
   "source": [
    "patient_multi.head()"
   ]
  },
  {
   "cell_type": "code",
   "execution_count": 11,
   "metadata": {},
   "outputs": [],
   "source": [
    "X = np.array(X)\n",
    "y = np.array(y)\n",
    "X_train = np.array(X_train)\n",
    "y_train = np.array(y_train)\n",
    "X_test = np.array(X_test)\n",
    "y_test = np.array(y_test)\n",
    "ids = np.array(ids)\n",
    "id_train = np.array(id_train)\n",
    "id_test = np.array(id_test)"
   ]
  },
  {
   "attachments": {},
   "cell_type": "markdown",
   "metadata": {},
   "source": [
    "Sanity check dimensions, distribution of values, amount of NAs"
   ]
  },
  {
   "cell_type": "code",
   "execution_count": 12,
   "metadata": {},
   "outputs": [
    {
     "name": "stdout",
     "output_type": "stream",
     "text": [
      "(1329, 5, 17)\n",
      "(1329,)\n",
      "(968, 5, 17)\n",
      "(968,)\n",
      "(361, 5, 17)\n",
      "(361,)\n",
      "(1329,)\n",
      "(968,)\n",
      "(361,)\n"
     ]
    }
   ],
   "source": [
    "# reshape\n",
    "X = np.transpose(X, (0, 2, 1))\n",
    "X_train = np.transpose(X_train, (0, 2, 1))\n",
    "X_test = np.transpose(X_test, (0, 2, 1))\n",
    "print(X.shape)\n",
    "print(y.shape)\n",
    "print(X_train.shape)\n",
    "print(y_train.shape)\n",
    "print(X_test.shape)\n",
    "print(y_test.shape)\n",
    "print(ids.shape)\n",
    "print(id_train.shape)\n",
    "print(id_test.shape)"
   ]
  },
  {
   "cell_type": "code",
   "execution_count": 13,
   "metadata": {},
   "outputs": [
    {
     "data": {
      "text/plain": [
       "(array([0., 0., 0., 0., 0., 0., 0., 0., 0., 0.]),\n",
       " array([ 0.,  1.,  2.,  3.,  4.,  5.,  6.,  7.,  8.,  9., 10.]),\n",
       " <BarContainer object of 10 artists>)"
      ]
     },
     "execution_count": 13,
     "metadata": {},
     "output_type": "execute_result"
    },
    {
     "data": {
      "image/png": "[encoded data removed]",
      "text/plain": [
       "<Figure size 640x480 with 1 Axes>"
      ]
     },
     "metadata": {},
     "output_type": "display_data"
    }
   ],
   "source": [
    "# ['dts', 'HR', 'RR', 'SPO2-%', 'PVC']\n",
    "\n",
    "# hr = np.ravel(X[:,0,:])\n",
    "# plt.hist(hr)\n",
    "\n",
    "# rr = np.ravel(X[:,1,:])\n",
    "# plt.hist(rr)\n",
    "\n",
    "# Spo2 = np.ravel(X[:,2,:])\n",
    "# plt.hist(Spo2)\n",
    "\n",
    "pvc = np.ravel(X[:,3,:])\n",
    "plt.hist(pvc, range=[0,10])"
   ]
  },
  {
   "cell_type": "code",
   "execution_count": 14,
   "metadata": {},
   "outputs": [
    {
     "data": {
      "text/plain": [
       "(array([ 13.,   0.,  33.,   2.,  84.,   1., 115.,   0.,  72.,  38.]),\n",
       " array([-3. , -2.5, -2. , -1.5, -1. , -0.5,  0. ,  0.5,  1. ,  1.5,  2. ]),\n",
       " <BarContainer object of 10 artists>)"
      ]
     },
     "execution_count": 14,
     "metadata": {},
     "output_type": "execute_result"
    },
    {
     "data": {
      "image/png": "[encoded data removed]",
      "text/plain": [
       "<Figure size 640x480 with 1 Axes>"
      ]
     },
     "metadata": {},
     "output_type": "display_data"
    }
   ],
   "source": [
    "plt.hist(y_train)\n",
    "plt.hist(y_test)"
   ]
  },
  {
   "cell_type": "code",
   "execution_count": 13,
   "metadata": {},
   "outputs": [],
   "source": [
    "from scipy.io import savemat\n",
    "savemat('./DONOTPUSH/data.mat', {'X_train': X_train, 'y_train': y_train,'X_test': X_test,'y_test': y_test, 'X':X, 'y':y, 'group':ids})\n",
    "np.save('./DONOTPUSH/20230809_waveforms_30min.npy',X)\n",
    "np.save('./DONOTPUSH/20230809_sbs_30min.npy',y)\n",
    "np.save('./DONOTPUSH/20230809_ids_30min.npy',ids)"
   ]
  },
  {
   "cell_type": "code",
   "execution_count": 42,
   "metadata": {},
   "outputs": [
    {
     "ename": "TypeError",
     "evalue": "ufunc 'isnan' not supported for the input types, and the inputs could not be safely coerced to any supported types according to the casting rule ''safe''",
     "output_type": "error",
     "traceback": [
      "\u001b[1;31m---------------------------------------------------------------------------\u001b[0m",
      "\u001b[1;31mTypeError\u001b[0m                                 Traceback (most recent call last)",
      "Cell \u001b[1;32mIn[42], line 2\u001b[0m\n\u001b[0;32m      1\u001b[0m \u001b[39m# Proportion of NA values\u001b[39;00m\n\u001b[1;32m----> 2\u001b[0m pnan \u001b[39m=\u001b[39m np\u001b[39m.\u001b[39msum(np\u001b[39m.\u001b[39msum(np\u001b[39m.\u001b[39;49misnan(X), axis\u001b[39m=\u001b[39m\u001b[39m2\u001b[39m), axis\u001b[39m=\u001b[39m\u001b[39m0\u001b[39m) \u001b[39m/\u001b[39m (X\u001b[39m.\u001b[39mshape[\u001b[39m0\u001b[39m] \u001b[39m*\u001b[39m X\u001b[39m.\u001b[39mshape[\u001b[39m2\u001b[39m])\n\u001b[0;32m      3\u001b[0m pnan\n\u001b[0;32m      5\u001b[0m \u001b[39m# ['dts', 'HR', 'RR', 'SPO2-%', 'PVC']\u001b[39;00m\n",
      "\u001b[1;31mTypeError\u001b[0m: ufunc 'isnan' not supported for the input types, and the inputs could not be safely coerced to any supported types according to the casting rule ''safe''"
     ]
    }
   ],
   "source": [
    "\n",
    "\n",
    "# Proportion of NA values\n",
    "pnan = np.sum(np.sum(np.isnan(X), axis=2), axis=0) / (X.shape[0] * X.shape[2])\n",
    "pnan\n",
    "\n",
    "# ['dts', 'HR', 'RR', 'SPO2-%', 'PVC']"
   ]
  },
  {
   "attachments": {},
   "cell_type": "markdown",
   "metadata": {},
   "source": []
  }
 ],
 "metadata": {
  "kernelspec": {
   "display_name": "Python 3",
   "language": "python",
   "name": "python3"
  },
  "language_info": {
   "codemirror_mode": {
    "name": "ipython",
    "version": 3
   },
   "file_extension": ".py",
   "mimetype": "text/x-python",
   "name": "python",
   "nbconvert_exporter": "python",
   "pygments_lexer": "ipython3",
   "version": "3.10.11"
  },
  "vscode": {
   "interpreter": {
    "hash": "9bc79df9556164fa304c2df5fca3da3ecf441a0187df134e542de69f51bea68e"
   }
  }
 },
 "nbformat": 4,
 "nbformat_minor": 4
}
